{
 "cells": [
  {
   "cell_type": "code",
   "id": "initial_id",
   "metadata": {
    "collapsed": true,
    "ExecuteTime": {
     "end_time": "2024-06-13T22:02:29.910128Z",
     "start_time": "2024-06-13T22:02:29.777829Z"
    }
   },
   "source": [
    "from source.code.common_utilities.Configurations import Configurations\n",
    "from source.code.services.object_model.configurations.OpenAIConfigurations import OpenAIConfigurations\n"
   ],
   "outputs": [],
   "execution_count": 15
  },
  {
   "metadata": {
    "ExecuteTime": {
     "end_time": "2024-06-13T22:02:53.218503Z",
     "start_time": "2024-06-13T22:02:53.180225Z"
    }
   },
   "cell_type": "code",
   "source": [
    "configuration_file = r\"source\\tests\\configuration.json\"\n",
    "\n",
    "configuration_manager = Configurations(\n",
    "    configuration_file)\n",
    "\n",
    "configuration_manager.validate_config(\n",
    "    model_class=OpenAIConfigurations,\n",
    "    section_name=\"open_ai_configuration\")\n",
    "\n",
    "print(configuration_manager.get_config(\"api_key\"))"
   ],
   "id": "49a84bac5022918d",
   "outputs": [
    {
     "name": "stdout",
     "output_type": "stream",
     "text": [
      "OpenAIConfigurations Configuration Validated and Loaded: api_key='sk-proj-3jvM4IHUxnX7ZoPSkirzT3BlbkFJptBI6eMAq7yxhjNs1ln8' openai_organisation='org-3jvM4IHUxnX7ZoPSkirzT3BlbkFJptBI6eMAq7yxhjNs1ln8' openai_project='proj-3jvM4IHUxnX7ZoPSkirzT3BlbkFJptBI6eMAq7yxhjNs1ln8' openai_model='gpt-4o' max_tokens=100 temperature=0.5 top_p=1\n",
      "None\n"
     ]
    }
   ],
   "execution_count": 17
  },
  {
   "metadata": {
    "ExecuteTime": {
     "end_time": "2024-06-13T22:03:36.089521Z",
     "start_time": "2024-06-13T22:03:27.706312Z"
    }
   },
   "cell_type": "code",
   "source": [
    "from llama_index.core import (\n",
    "    Document,\n",
    "    VectorStoreIndex,\n",
    "    SimpleDirectoryReader,\n",
    "    StorageContext,\n",
    "    load_index_from_storage,\n",
    ")\n",
    "from llama_index.llms.openai import OpenAI\n",
    "from llama_index.core.indices.property_graph import SchemaLLMPathExtractor\n",
    "from llama_index.graph_stores.neo4j import Neo4jPGStore\n",
    "from llama_index.core import PropertyGraphIndex\n",
    "\n",
    "import os.path\n",
    "import pytest\n",
    "import logging\n",
    "import sys\n",
    "import pandas as pd\n",
    "from typing import Literal"
   ],
   "id": "95a4c6944225ad04",
   "outputs": [],
   "execution_count": 18
  },
  {
   "metadata": {},
   "cell_type": "code",
   "outputs": [],
   "execution_count": null,
   "source": "",
   "id": "170c497849384f48"
  }
 ],
 "metadata": {
  "kernelspec": {
   "display_name": "Python 3",
   "language": "python",
   "name": "python3"
  },
  "language_info": {
   "codemirror_mode": {
    "name": "ipython",
    "version": 2
   },
   "file_extension": ".py",
   "mimetype": "text/x-python",
   "name": "python",
   "nbconvert_exporter": "python",
   "pygments_lexer": "ipython2",
   "version": "2.7.6"
  }
 },
 "nbformat": 4,
 "nbformat_minor": 5
}
